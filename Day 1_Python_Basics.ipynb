{
 "cells": [
  {
   "cell_type": "markdown",
   "id": "b4c827b1-0c39-461b-8461-34d5a75d6a15",
   "metadata": {},
   "source": [
    "## Python Keywords"
   ]
  },
  {
   "cell_type": "markdown",
   "id": "c9fa1d0b-cb4e-4ba2-aba1-7dcda780a3bd",
   "metadata": {},
   "source": [
    "1. Keywords are Reserved Words in Python\n",
    "2. We can't use keywords as Variables Name, Functions Name, or any other Identifiers\n",
    "3. Keywords are Case Sensitive"
   ]
  },
  {
   "cell_type": "code",
   "execution_count": 3,
   "id": "b3dfd88f-ee9e-4d23-90b5-50aabda68435",
   "metadata": {},
   "outputs": [],
   "source": [
    "# To Import Keywords\n",
    "import keyword"
   ]
  },
  {
   "cell_type": "code",
   "execution_count": 4,
   "id": "bd20ca12-edcc-4c17-86c6-dec553966622",
   "metadata": {},
   "outputs": [
    {
     "name": "stdout",
     "output_type": "stream",
     "text": [
      "['False', 'None', 'True', 'and', 'as', 'assert', 'async', 'await', 'break', 'class', 'continue', 'def', 'del', 'elif', 'else', 'except', 'finally', 'for', 'from', 'global', 'if', 'import', 'in', 'is', 'lambda', 'nonlocal', 'not', 'or', 'pass', 'raise', 'return', 'try', 'while', 'with', 'yield']\n"
     ]
    }
   ],
   "source": [
    "#To Check Keywords\n",
    "print(keyword.kwlist)"
   ]
  },
  {
   "cell_type": "code",
   "execution_count": 5,
   "id": "2f00e9a7-7af2-4d7a-af5b-9a716268c426",
   "metadata": {},
   "outputs": [
    {
     "data": {
      "text/plain": [
       "35"
      ]
     },
     "execution_count": 5,
     "metadata": {},
     "output_type": "execute_result"
    }
   ],
   "source": [
    "#To Check Total Keywords\n",
    "len(keyword.kwlist)"
   ]
  },
  {
   "cell_type": "markdown",
   "id": "f6c1baca-985c-43a1-80cc-4f9ed694450c",
   "metadata": {},
   "source": [
    "## 2.Python Identifier"
   ]
  },
  {
   "cell_type": "markdown",
   "id": "52fce174-0a7a-401f-82d7-843df12d39c4",
   "metadata": {},
   "source": [
    "1. Identifier is name that given to the entites like class,functions, and variables, etc\n",
    "2. it helps the identify the one entity to another entity"
   ]
  },
  {
   "cell_type": "markdown",
   "id": "8c0a4aaa-6393-47a0-8f5e-11ee115809cb",
   "metadata": {},
   "source": [
    "#### Rules for Declare the Identifier"
   ]
  },
  {
   "cell_type": "markdown",
   "id": "470f39ac-7026-439d-8cc1-9c46b2e5f3d0",
   "metadata": {},
   "source": [
    "* Identifiers are casesensitive\n",
    "* Identifiers are can't start with Digit\n",
    "* Special Characters are not allowed, Except Underscore _\n",
    "* Keywords are the not allowed as Identifier\n",
    "* No length Limit as declare as Identifier"
   ]
  },
  {
   "cell_type": "markdown",
   "id": "ebdfcd97-4105-447f-b726-9b7c5e28bc2b",
   "metadata": {},
   "source": [
    "## 3.Python Comments"
   ]
  },
  {
   "cell_type": "markdown",
   "id": "9827321d-e4e0-4c6e-93d1-48823f09e1b4",
   "metadata": {},
   "source": [
    "- Comments are the lines, that exits in computer programms that can ignored by the **Compilers and Interpreters**\n",
    "- By Using Comments, That Program is easily understand and More Readble for humans\n",
    "- In Python, # is used to write the **Comments**"
   ]
  },
  {
   "cell_type": "markdown",
   "id": "d0732bf7-fd7b-4b77-b4df-3c8490b5b557",
   "metadata": {},
   "source": [
    "**Compilers :**\n",
    "1. Compilers are the Run the Program and convers it the machine code at a time\n",
    "2. Compilers are take large amount of time  to run the code\n",
    "3. Ex: C,C++, Java"
   ]
  },
  {
   "cell_type": "markdown",
   "id": "c33fd763-7806-4804-ae10-107f6fe8c34a",
   "metadata": {},
   "source": [
    "**Interpreter :**\n",
    "1. Interpretes run the program line by liune or statement wise at a time.\n",
    "2. Interpreter take the very less time to riun the program\n",
    "3. Ex : Python, Java Script,Ruby"
   ]
  },
  {
   "cell_type": "markdown",
   "id": "713ac0cb-8c37-4073-8c07-bfd7e06f40df",
   "metadata": {},
   "source": [
    "#### Multiline Comments"
   ]
  },
  {
   "cell_type": "markdown",
   "id": "8c3be0fe-91de-4c74-ba3c-6f609db6cd7e",
   "metadata": {},
   "source": [
    "* If we have required multipule lines commments, we use hash (#), in each line"
   ]
  },
  {
   "cell_type": "code",
   "execution_count": 16,
   "id": "cff8e6ab-f2bb-4433-86ce-b734a0c57d91",
   "metadata": {},
   "outputs": [],
   "source": [
    "# This is Manikanta\n",
    "# Preparing the Data Science\n",
    "# This will Take 180 target"
   ]
  },
  {
   "cell_type": "code",
   "execution_count": 17,
   "id": "8f40be79-4977-4409-8730-8ab747ab8448",
   "metadata": {},
   "outputs": [
    {
     "data": {
      "text/plain": [
       "' This is Manikanta,\\nPreparing the Data Science\\nThis will take 180 days target '"
      ]
     },
     "execution_count": 17,
     "metadata": {},
     "output_type": "execute_result"
    }
   ],
   "source": [
    "\"\"\" This is Manikanta,\n",
    "Preparing the Data Science\n",
    "This will take 180 days target \"\"\""
   ]
  },
  {
   "cell_type": "markdown",
   "id": "ac2d03b0-00ed-4781-bd57-ea32d047bca6",
   "metadata": {},
   "source": [
    "## 4.Python Statements"
   ]
  },
  {
   "cell_type": "markdown",
   "id": "72b07aae-d7db-40f2-90a6-05a6ff389914",
   "metadata": {},
   "source": [
    "* Instructions that a python interpreter can execute are called the Statements"
   ]
  },
  {
   "cell_type": "code",
   "execution_count": 20,
   "id": "2cf251bc-7b8c-4105-b766-37ac1219ca27",
   "metadata": {},
   "outputs": [],
   "source": [
    "# Single Statements\n",
    "a = 10"
   ]
  },
  {
   "cell_type": "code",
   "execution_count": 21,
   "id": "48bf6d66-6d8e-4b84-994e-6099cd12e917",
   "metadata": {},
   "outputs": [
    {
     "name": "stdout",
     "output_type": "stream",
     "text": [
      "45\n"
     ]
    }
   ],
   "source": [
    "# Multiple Lines Statements\n",
    "a = 1+2+3+4+5+ \\\n",
    "    6+7+\\\n",
    "    8+9\n",
    "print(a)"
   ]
  },
  {
   "cell_type": "code",
   "execution_count": 22,
   "id": "d0f39d96-8dea-4ae6-82d9-82fe8b91119a",
   "metadata": {},
   "outputs": [
    {
     "name": "stdout",
     "output_type": "stream",
     "text": [
      "45\n"
     ]
    }
   ],
   "source": [
    "#By using paranthasis\n",
    "a = (1+2+3+4+5+ \\\n",
    "    6+7+\\\n",
    "    8+9)\n",
    "print(a)"
   ]
  },
  {
   "cell_type": "code",
   "execution_count": 23,
   "id": "65714200-d422-4fe3-a86b-1fc348359987",
   "metadata": {},
   "outputs": [
    {
     "name": "stdout",
     "output_type": "stream",
     "text": [
      "10 20 30\n"
     ]
    }
   ],
   "source": [
    "#Multiple Statements in SingleLine\n",
    "a=10 ; b=20; c=30\n",
    "print(a,b,c)"
   ]
  },
  {
   "cell_type": "markdown",
   "id": "204eb5f8-a589-4862-9da8-ebed9bc6bf44",
   "metadata": {},
   "source": [
    "## 5.Variables"
   ]
  },
  {
   "cell_type": "markdown",
   "id": "b0a07feb-7e14-48ca-9fa1-bfaf6628ce58",
   "metadata": {},
   "source": [
    "* A Variable is a location in memory used to store the some value or \n",
    "* The Rules for writing variables are same as the writing the identifiers\n",
    "* We Don't even to declare the type of variable. This is handled internally according to the type of value we assign to the value."
   ]
  },
  {
   "cell_type": "markdown",
   "id": "f2b04138-2d2c-40ab-9ff6-e07a4b335279",
   "metadata": {},
   "source": [
    "#### Variable Assignments\n"
   ]
  },
  {
   "cell_type": "markdown",
   "id": "de8a5e4e-cbae-4b30-ab49-ad0df782c8b5",
   "metadata": {},
   "source": [
    "* we use the = assignment operator to assign the values into variables"
   ]
  },
  {
   "cell_type": "code",
   "execution_count": 28,
   "id": "0e2c3638-8b01-4e47-9905-408845e83608",
   "metadata": {},
   "outputs": [],
   "source": [
    "x = 11\n",
    "y = 22.22\n",
    "z = \"Manikanta\""
   ]
  },
  {
   "cell_type": "code",
   "execution_count": 29,
   "id": "34d99b90-4bdd-42e6-b56d-4841877bca74",
   "metadata": {},
   "outputs": [
    {
     "name": "stdout",
     "output_type": "stream",
     "text": [
      "10 20.2  Manikanta\n"
     ]
    }
   ],
   "source": [
    "# Assign the Values in Same Line\n",
    "x,y,z = 10,20.20,\" Manikanta\"\n",
    "print(x,y,z)"
   ]
  },
  {
   "cell_type": "code",
   "execution_count": 30,
   "id": "37668d0d-65b8-4806-ba55-39aa1c0d0715",
   "metadata": {},
   "outputs": [
    {
     "name": "stdout",
     "output_type": "stream",
     "text": [
      "Mani\n",
      "Mani\n",
      "Mani\n",
      "Mani\n"
     ]
    }
   ],
   "source": [
    "#Assign the same value to multiple Variables\n",
    "a=b=c=d= \"Mani\"\n",
    "print(a)\n",
    "print(b)\n",
    "print(c)\n",
    "print(d)\n"
   ]
  },
  {
   "cell_type": "code",
   "execution_count": 31,
   "id": "48f9300b-084a-4fb1-8ed1-9317d99b34d7",
   "metadata": {},
   "outputs": [
    {
     "data": {
      "text/plain": [
       "140711834888696"
      ]
     },
     "execution_count": 31,
     "metadata": {},
     "output_type": "execute_result"
    }
   ],
   "source": [
    "#### Storage Locations\n",
    "x = 3\n",
    "id(x)"
   ]
  },
  {
   "cell_type": "code",
   "execution_count": 32,
   "id": "b2517049-d9d8-4344-acd7-cf99e87c7811",
   "metadata": {},
   "outputs": [
    {
     "data": {
      "text/plain": [
       "140711834888696"
      ]
     },
     "execution_count": 32,
     "metadata": {},
     "output_type": "execute_result"
    }
   ],
   "source": [
    "y=3\n",
    "id(y)"
   ]
  },
  {
   "cell_type": "code",
   "execution_count": 33,
   "id": "d5917b43-fc11-420b-a62a-49866a4f8e01",
   "metadata": {},
   "outputs": [
    {
     "data": {
      "text/plain": [
       "140711834888664"
      ]
     },
     "execution_count": 33,
     "metadata": {},
     "output_type": "execute_result"
    }
   ],
   "source": [
    "y=2\n",
    "id(y)"
   ]
  },
  {
   "cell_type": "markdown",
   "id": "5392f2af-7c3d-4eb4-8321-d190448ee959",
   "metadata": {},
   "source": [
    "## 6.Data Types"
   ]
  },
  {
   "cell_type": "markdown",
   "id": "45327c2a-ac53-4f6b-81a0-f8a76e2ec0e9",
   "metadata": {},
   "source": [
    "* Every Value in Python has a data type\n",
    "* we use the **type()** function to know witch class a variable or value\n",
    "* Interger - int\n",
    "* Float -float\n",
    "* Complex - complex\n",
    "* Boolean - bool"
   ]
  },
  {
   "cell_type": "code",
   "execution_count": 36,
   "id": "51e64db2-17b5-4387-9754-869871c6cf3f",
   "metadata": {},
   "outputs": [
    {
     "name": "stdout",
     "output_type": "stream",
     "text": [
      "10 The Type of a is: <class 'int'>\n"
     ]
    }
   ],
   "source": [
    "a=10\n",
    "print(a,\"The Type of a is:\", type(a))"
   ]
  },
  {
   "cell_type": "code",
   "execution_count": 37,
   "id": "811ce73a-bcb2-45da-b52e-e6a967671bfc",
   "metadata": {},
   "outputs": [
    {
     "name": "stdout",
     "output_type": "stream",
     "text": [
      "10.1 The Type of b is: <class 'float'>\n"
     ]
    }
   ],
   "source": [
    "b=10.10\n",
    "print(b,\"The Type of b is:\", type(b))"
   ]
  },
  {
   "cell_type": "code",
   "execution_count": 38,
   "id": "3a87e77c-15a6-487f-8f76-517598fb0ee6",
   "metadata": {},
   "outputs": [
    {
     "name": "stdout",
     "output_type": "stream",
     "text": [
      "10 The Type of c is: <class 'int'>\n"
     ]
    }
   ],
   "source": [
    "c=10\n",
    "print(c,\"The Type of c is:\", type(c))"
   ]
  },
  {
   "cell_type": "code",
   "execution_count": 39,
   "id": "56a39941-7f50-44bb-9f96-007b6c8c6c9f",
   "metadata": {},
   "outputs": [
    {
     "name": "stdout",
     "output_type": "stream",
     "text": [
      "True The Type of d is: <class 'bool'>\n"
     ]
    }
   ],
   "source": [
    "d= True\n",
    "print(d,\"The Type of d is:\",type(d))"
   ]
  },
  {
   "cell_type": "markdown",
   "id": "d4cf9be3-930c-445a-b174-b47f4d72d382",
   "metadata": {},
   "source": [
    "#### Python Strings"
   ]
  },
  {
   "cell_type": "markdown",
   "id": "320aa63e-142b-401f-b1a0-1a537d634615",
   "metadata": {},
   "source": [
    "* String is the Sequence of Unicode Characters\n",
    "* we can use single quotes or double quotes ' ' or \" \"\n",
    "* Strings can be indexed and Start from 0."
   ]
  },
  {
   "cell_type": "code",
   "execution_count": 42,
   "id": "fbc4dd9c-c744-42ed-9b0f-85ad9cc18d45",
   "metadata": {},
   "outputs": [
    {
     "name": "stdout",
     "output_type": "stream",
     "text": [
      "<class 'str'>\n"
     ]
    }
   ],
   "source": [
    "m = \"This is Manikanta\"\n",
    "print(type(m))"
   ]
  },
  {
   "cell_type": "markdown",
   "id": "f6eb0c32-e109-41f7-bd70-8c51eca499e9",
   "metadata": {},
   "source": [
    "#### Type Casting or Datatype Convertion"
   ]
  },
  {
   "cell_type": "code",
   "execution_count": 44,
   "id": "029c76d0-9918-4408-b34d-487a8cdb9b8c",
   "metadata": {},
   "outputs": [
    {
     "name": "stdout",
     "output_type": "stream",
     "text": [
      "100.0\n"
     ]
    },
    {
     "data": {
      "text/plain": [
       "float"
      ]
     },
     "execution_count": 44,
     "metadata": {},
     "output_type": "execute_result"
    }
   ],
   "source": [
    "#Integer to Float\n",
    "b = float(100)\n",
    "print(b)\n",
    "type(b)"
   ]
  },
  {
   "cell_type": "code",
   "execution_count": 45,
   "id": "3166f287-09cb-4be4-ae07-71cefc9808a8",
   "metadata": {},
   "outputs": [
    {
     "name": "stdout",
     "output_type": "stream",
     "text": [
      "100\n"
     ]
    },
    {
     "data": {
      "text/plain": [
       "int"
      ]
     },
     "execution_count": 45,
     "metadata": {},
     "output_type": "execute_result"
    }
   ],
   "source": [
    "#Flaot to Integer\n",
    "a = int(100.100)\n",
    "print(a)\n",
    "type(a)"
   ]
  },
  {
   "cell_type": "code",
   "execution_count": 46,
   "id": "757165c5-3654-4444-a36a-b3449c285fb7",
   "metadata": {},
   "outputs": [
    {
     "name": "stdout",
     "output_type": "stream",
     "text": [
      "100\n"
     ]
    },
    {
     "data": {
      "text/plain": [
       "str"
      ]
     },
     "execution_count": 46,
     "metadata": {},
     "output_type": "execute_result"
    }
   ],
   "source": [
    "#Integer to String\n",
    "aa = str(100)\n",
    "print(aa)\n",
    "type(aa)"
   ]
  },
  {
   "cell_type": "code",
   "execution_count": 47,
   "id": "9c9a35c5-901e-4c8b-ae99-7285ec685774",
   "metadata": {},
   "outputs": [
    {
     "ename": "SyntaxError",
     "evalue": "invalid decimal literal (2126683918.py, line 2)",
     "output_type": "error",
     "traceback": [
      "\u001b[1;36m  Cell \u001b[1;32mIn[47], line 2\u001b[1;36m\u001b[0m\n\u001b[1;33m    bb= str(100PPP)\u001b[0m\n\u001b[1;37m              ^\u001b[0m\n\u001b[1;31mSyntaxError\u001b[0m\u001b[1;31m:\u001b[0m invalid decimal literal\n"
     ]
    }
   ],
   "source": [
    "#Integer to String with Combination of Letters\n",
    "bb= str(100PPP)\n",
    "print(bb)\n",
    "type(bb)"
   ]
  },
  {
   "cell_type": "markdown",
   "id": "af5e60ec-f034-4ec7-96ca-469af0ed99f1",
   "metadata": {},
   "source": [
    "## 7.Python Output & Input"
   ]
  },
  {
   "cell_type": "markdown",
   "id": "e7bdb56f-e337-4b31-981a-03bc41df2a31",
   "metadata": {},
   "source": [
    "#### Output"
   ]
  },
  {
   "cell_type": "code",
   "execution_count": null,
   "id": "a2fa3082-fae4-4726-9012-7f8db95a962c",
   "metadata": {},
   "outputs": [],
   "source": [
    "#Use Print() function to get output data\n",
    "print(\"Hello World\")"
   ]
  },
  {
   "cell_type": "code",
   "execution_count": null,
   "id": "aa97cf22-5295-464e-aba5-627d97b0becb",
   "metadata": {},
   "outputs": [],
   "source": [
    "a=10\n",
    "print(\"The Value of a is:\", a)"
   ]
  },
  {
   "cell_type": "code",
   "execution_count": null,
   "id": "c043800e-e0fb-4907-9ef8-862cb6f5a8d8",
   "metadata": {},
   "outputs": [],
   "source": [
    "#Multiple Statements in the Single Line\n",
    "a =10; b=20\n",
    "print(\"The value of a is {} and b is {}\".format(a,b))"
   ]
  },
  {
   "cell_type": "code",
   "execution_count": null,
   "id": "3788cf3c-1d63-4188-905b-d276b7dee6a1",
   "metadata": {},
   "outputs": [],
   "source": [
    "#Multiple Statements in Single Line and Specify the Index\n",
    "a= 100;b=200\n",
    "print(\"The Value of a is {0} and b is {1}\".format(a,b))"
   ]
  },
  {
   "cell_type": "code",
   "execution_count": null,
   "id": "1b2a089f-3a64-43fb-ae35-06d56abada9d",
   "metadata": {},
   "outputs": [],
   "source": [
    "#Multiple Statements in Single Line and Specify the Index\n",
    "a= 100;b=200\n",
    "print(\"The Value of b is {1} and a is {0}\".format(a,b))"
   ]
  },
  {
   "cell_type": "code",
   "execution_count": null,
   "id": "09411b59-122c-46c9-bf16-9b7c304a1b00",
   "metadata": {},
   "outputs": [],
   "source": [
    "#ByUsing the Keyword Argument\n",
    "print(\"Hello My {Name}, Age is {Age}\".format(Name=\"Manikanta\",Age=29))"
   ]
  },
  {
   "cell_type": "markdown",
   "id": "6583b1a7-b63c-49ea-9684-f38bd002db35",
   "metadata": {},
   "source": [
    "#### Input"
   ]
  },
  {
   "cell_type": "code",
   "execution_count": null,
   "id": "26d7974f-268e-4111-be35-fcca1cb13f86",
   "metadata": {},
   "outputs": [],
   "source": [
    "# We have take input from the user, then we take input() function used\n",
    "num = input(\"Enter the Value\")\n",
    "print(num)"
   ]
  },
  {
   "cell_type": "code",
   "execution_count": null,
   "id": "41027168-6efa-464e-8c68-24e055befc68",
   "metadata": {},
   "outputs": [],
   "source": []
  },
  {
   "cell_type": "code",
   "execution_count": null,
   "id": "138334e3-18de-4da8-992e-c6f4d2325d0c",
   "metadata": {},
   "outputs": [],
   "source": []
  }
 ],
 "metadata": {
  "kernelspec": {
   "display_name": "Python 3 (ipykernel)",
   "language": "python",
   "name": "python3"
  },
  "language_info": {
   "codemirror_mode": {
    "name": "ipython",
    "version": 3
   },
   "file_extension": ".py",
   "mimetype": "text/x-python",
   "name": "python",
   "nbconvert_exporter": "python",
   "pygments_lexer": "ipython3",
   "version": "3.12.7"
  }
 },
 "nbformat": 4,
 "nbformat_minor": 5
}
